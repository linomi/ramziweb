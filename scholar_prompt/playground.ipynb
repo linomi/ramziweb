{
 "cells": [
  {
   "cell_type": "code",
   "execution_count": 12,
   "metadata": {},
   "outputs": [],
   "source": [
    "from scholarly import scholarly"
   ]
  },
  {
   "cell_type": "code",
   "execution_count": 13,
   "metadata": {},
   "outputs": [],
   "source": [
    "gen = scholarly.search_author('menhaj')\n"
   ]
  },
  {
   "cell_type": "code",
   "execution_count": 14,
   "metadata": {},
   "outputs": [],
   "source": [
    "author = next(gen)"
   ]
  },
  {
   "cell_type": "code",
   "execution_count": 15,
   "metadata": {},
   "outputs": [
    {
     "data": {
      "text/plain": [
       "{'container_type': 'Author',\n",
       " 'filled': [],\n",
       " 'source': <AuthorSource.SEARCH_AUTHOR_SNIPPETS: 'SEARCH_AUTHOR_SNIPPETS'>,\n",
       " 'scholar_id': '0EN-JbQAAAAJ',\n",
       " 'url_picture': 'https://scholar.google.com/citations?view_op=medium_photo&user=0EN-JbQAAAAJ',\n",
       " 'name': 'Mohammad Bagher Menhaj',\n",
       " 'affiliation': 'Professor of Electrical Engineering, Amirkabir University of Technology, Tehran, Iran',\n",
       " 'email_domain': '@aut.ac.ir',\n",
       " 'interests': ['Adaptive Control',\n",
       "  'Computational Intelligence',\n",
       "  'Multi-Agent Systems',\n",
       "  'Robotics',\n",
       "  'Cognitive Science'],\n",
       " 'citedby': 18319}"
      ]
     },
     "execution_count": 15,
     "metadata": {},
     "output_type": "execute_result"
    }
   ],
   "source": [
    "author"
   ]
  },
  {
   "cell_type": "code",
   "execution_count": 18,
   "metadata": {},
   "outputs": [],
   "source": [
    "from logging import raiseExceptions\n",
    "from scholarly import scholarly\n",
    "class Gscholar(): \n",
    "    def __init__(self,author_query:str):\n",
    "        self.authors = scholarly.search_author(author_query)\n",
    "    def get(self):\n",
    "\n",
    "        return list(self.authors)\n",
    "    def set_author(self,author:dict): \n",
    "        self.author = author \n",
    "    def get_publications(self,pubcount:int):\n",
    "        try:\n",
    "            fill_author = scholarly.fill(self.author,sections=['publications'],sortby='year',publication_limit=10)\n",
    "        except: \n",
    "            raise ValueError('set author first')\n",
    "        publications = fill_author['publications']\n",
    "        return publications\n",
    "        \n",
    "S  = Gscholar('menhaj')\n",
    "S.set_author(author)"
   ]
  },
  {
   "cell_type": "code",
   "execution_count": 19,
   "metadata": {},
   "outputs": [
    {
     "data": {
      "text/plain": [
       "[{'container_type': 'Publication',\n",
       "  'source': <PublicationSource.AUTHOR_PUBLICATION_ENTRY: 'AUTHOR_PUBLICATION_ENTRY'>,\n",
       "  'bib': {'title': 'Design of a computational intelligence system for detection of multiple sclerosis with visual evoked potentials',\n",
       "   'pub_year': '2025',\n",
       "   'citation': 'Neuroscience Informatics 5 (1), 100177, 2025'},\n",
       "  'filled': False,\n",
       "  'author_pub_id': '0EN-JbQAAAAJ:cww_0JKUTDwC',\n",
       "  'num_citations': 1,\n",
       "  'citedby_url': 'https://scholar.google.com/scholar?oi=bibs&hl=en&cites=8906205714074709285,4934024996335989190',\n",
       "  'cites_id': ['8906205714074709285', '4934024996335989190']},\n",
       " {'container_type': 'Publication',\n",
       "  'source': <PublicationSource.AUTHOR_PUBLICATION_ENTRY: 'AUTHOR_PUBLICATION_ENTRY'>,\n",
       "  'bib': {'title': 'Compression-enabled interpretability of voxelwise encoding models',\n",
       "   'pub_year': '2025',\n",
       "   'citation': 'PLOS Computational Biology 21 (2), e1012822, 2025'},\n",
       "  'filled': False,\n",
       "  'author_pub_id': '0EN-JbQAAAAJ:ujxm2eEBZHIC',\n",
       "  'num_citations': 1,\n",
       "  'citedby_url': 'https://scholar.google.com/scholar?oi=bibs&hl=en&cites=1631944284068266296',\n",
       "  'cites_id': ['1631944284068266296']},\n",
       " {'container_type': 'Publication',\n",
       "  'source': <PublicationSource.AUTHOR_PUBLICATION_ENTRY: 'AUTHOR_PUBLICATION_ENTRY'>,\n",
       "  'bib': {'title': 'Transparency-enhanced observer-based adaptive backstepping torque–position control for teleoperation systems with position error constraint and time-varying delay',\n",
       "   'pub_year': '2025',\n",
       "   'citation': 'European Journal of Control 81, 101153, 2025'},\n",
       "  'filled': False,\n",
       "  'author_pub_id': '0EN-JbQAAAAJ:hB2aVRuWZNwC',\n",
       "  'num_citations': 0},\n",
       " {'container_type': 'Publication',\n",
       "  'source': <PublicationSource.AUTHOR_PUBLICATION_ENTRY: 'AUTHOR_PUBLICATION_ENTRY'>,\n",
       "  'bib': {'title': 'A novel mobile robot path planning method based on neuro-fuzzy controller',\n",
       "   'pub_year': '2025',\n",
       "   'citation': 'AUT Journal of Mathematics and Computing 6 (1), 41-53, 2025'},\n",
       "  'filled': False,\n",
       "  'author_pub_id': '0EN-JbQAAAAJ:BCdnXsLIVDwC',\n",
       "  'num_citations': 0},\n",
       " {'container_type': 'Publication',\n",
       "  'source': <PublicationSource.AUTHOR_PUBLICATION_ENTRY: 'AUTHOR_PUBLICATION_ENTRY'>,\n",
       "  'bib': {'title': 'Applying Grid Search, Random Search, Bayesian Optimization, Genetic Algorithm, and Particle Swarm Optimization to fine-tune the hyperparameters of the ensemble of ML models …',\n",
       "   'pub_year': '2024',\n",
       "   'citation': ''},\n",
       "  'filled': False,\n",
       "  'author_pub_id': '0EN-JbQAAAAJ:g30IDTdgJMgC',\n",
       "  'num_citations': 0},\n",
       " {'container_type': 'Publication',\n",
       "  'source': <PublicationSource.AUTHOR_PUBLICATION_ENTRY: 'AUTHOR_PUBLICATION_ENTRY'>,\n",
       "  'bib': {'title': 'Machine learning and transfer learning techniques for accurate brain tumor classification',\n",
       "   'pub_year': '2024',\n",
       "   'citation': 'Clinical eHealth 7, 106-119, 2024'},\n",
       "  'filled': False,\n",
       "  'author_pub_id': '0EN-JbQAAAAJ:I-2NeQpV75MC',\n",
       "  'num_citations': 7,\n",
       "  'citedby_url': 'https://scholar.google.com/scholar?oi=bibs&hl=en&cites=16775721653217563718',\n",
       "  'cites_id': ['16775721653217563718']},\n",
       " {'container_type': 'Publication',\n",
       "  'source': <PublicationSource.AUTHOR_PUBLICATION_ENTRY: 'AUTHOR_PUBLICATION_ENTRY'>,\n",
       "  'bib': {'title': 'Advanced techniques for wind energy production forecasting: Leveraging multi-layer Perceptron+ Bayesian optimization, ensemble learning, and CNN-LSTM models',\n",
       "   'pub_year': '2024',\n",
       "   'citation': 'Case Studies in Chemical and Environmental Engineering 10, 100881, 2024'},\n",
       "  'filled': False,\n",
       "  'author_pub_id': '0EN-JbQAAAAJ:-vzq6BoH5oUC',\n",
       "  'num_citations': 8,\n",
       "  'citedby_url': 'https://scholar.google.com/scholar?oi=bibs&hl=en&cites=10465727346265475217',\n",
       "  'cites_id': ['10465727346265475217']},\n",
       " {'container_type': 'Publication',\n",
       "  'source': <PublicationSource.AUTHOR_PUBLICATION_ENTRY: 'AUTHOR_PUBLICATION_ENTRY'>,\n",
       "  'bib': {'title': 'Data-Driven Distributed Optimal Control Using Neighbourhood Optimization for Nonlinear Interconnected Systems',\n",
       "   'pub_year': '2024',\n",
       "   'citation': 'Journal of Optimization Theory and Applications 203 (1), 1054-1082, 2024'},\n",
       "  'filled': False,\n",
       "  'author_pub_id': '0EN-JbQAAAAJ:uEM9VtRl8xsC',\n",
       "  'num_citations': 1,\n",
       "  'citedby_url': 'https://scholar.google.com/scholar?oi=bibs&hl=en&cites=13546558812647432517',\n",
       "  'cites_id': ['13546558812647432517']},\n",
       " {'container_type': 'Publication',\n",
       "  'source': <PublicationSource.AUTHOR_PUBLICATION_ENTRY: 'AUTHOR_PUBLICATION_ENTRY'>,\n",
       "  'bib': {'title': 'pAE: An Efficient Autoencoder Architecture for Modeling the Lateral Geniculate Nucleus by Integrating Feedforward and Feedback Streams in Human Visual System',\n",
       "   'pub_year': '2024',\n",
       "   'citation': 'arXiv preprint arXiv:2409.13622, 2024'},\n",
       "  'filled': False,\n",
       "  'author_pub_id': '0EN-JbQAAAAJ:uPCvBZYD9qUC',\n",
       "  'num_citations': 0},\n",
       " {'container_type': 'Publication',\n",
       "  'source': <PublicationSource.AUTHOR_PUBLICATION_ENTRY: 'AUTHOR_PUBLICATION_ENTRY'>,\n",
       "  'bib': {'title': 'Adaptive-neural command filtered synchronization control of tele-robotic systems using disturbance observer with safety enhancement',\n",
       "   'pub_year': '2024',\n",
       "   'citation': 'Journal of the Franklin Institute 361 (13), 107036, 2024'},\n",
       "  'filled': False,\n",
       "  'author_pub_id': '0EN-JbQAAAAJ:GUYAmugLYisC',\n",
       "  'num_citations': 4,\n",
       "  'citedby_url': 'https://scholar.google.com/scholar?oi=bibs&hl=en&cites=7236347648598749631',\n",
       "  'cites_id': ['7236347648598749631']}]"
      ]
     },
     "execution_count": 19,
     "metadata": {},
     "output_type": "execute_result"
    }
   ],
   "source": [
    "S.get_publications(10)"
   ]
  },
  {
   "cell_type": "code",
   "execution_count": null,
   "metadata": {},
   "outputs": [
    {
     "data": {
      "text/plain": [
       "[{'container_type': 'Author',\n",
       "  'filled': [],\n",
       "  'source': <AuthorSource.SEARCH_AUTHOR_SNIPPETS: 'SEARCH_AUTHOR_SNIPPETS'>,\n",
       "  'scholar_id': '0EN-JbQAAAAJ',\n",
       "  'url_picture': 'https://scholar.google.com/citations?view_op=medium_photo&user=0EN-JbQAAAAJ',\n",
       "  'name': 'Mohammad Bagher Menhaj',\n",
       "  'affiliation': 'Professor of Electrical Engineering, Amirkabir University of Technology, Tehran, Iran',\n",
       "  'email_domain': '@aut.ac.ir',\n",
       "  'interests': ['Adaptive Control',\n",
       "   'Computational Intelligence',\n",
       "   'Multi-Agent Systems',\n",
       "   'Robotics',\n",
       "   'Cognitive Science'],\n",
       "  'citedby': 18305},\n",
       " {'container_type': 'Author',\n",
       "  'filled': [],\n",
       "  'source': <AuthorSource.SEARCH_AUTHOR_SNIPPETS: 'SEARCH_AUTHOR_SNIPPETS'>,\n",
       "  'scholar_id': 'iLk-RhgAAAAJ',\n",
       "  'url_picture': 'https://scholar.google.com/citations?view_op=medium_photo&user=iLk-RhgAAAAJ',\n",
       "  'name': 'Mohammad Hossien Menhaj',\n",
       "  'affiliation': 'Associate Professor, University of Guilan',\n",
       "  'email_domain': '@guilan.ac.ir',\n",
       "  'interests': ['Agricultural Economics'],\n",
       "  'citedby': 41}]"
      ]
     },
     "execution_count": 66,
     "metadata": {},
     "output_type": "execute_result"
    }
   ],
   "source": []
  },
  {
   "cell_type": "code",
   "execution_count": 2,
   "metadata": {},
   "outputs": [
    {
     "name": "stdout",
     "output_type": "stream",
     "text": [
      "Requirement already satisfied: ipywidgets in c:\\users\\hozna\\documents\\web_poject\\.conda\\lib\\site-packages (8.1.5)\n",
      "Requirement already satisfied: comm>=0.1.3 in c:\\users\\hozna\\appdata\\roaming\\python\\python311\\site-packages (from ipywidgets) (0.2.2)\n",
      "Requirement already satisfied: ipython>=6.1.0 in c:\\users\\hozna\\appdata\\roaming\\python\\python311\\site-packages (from ipywidgets) (8.30.0)\n",
      "Requirement already satisfied: traitlets>=4.3.1 in c:\\users\\hozna\\appdata\\roaming\\python\\python311\\site-packages (from ipywidgets) (5.14.3)\n",
      "Requirement already satisfied: widgetsnbextension~=4.0.12 in c:\\users\\hozna\\documents\\web_poject\\.conda\\lib\\site-packages (from ipywidgets) (4.0.13)\n",
      "Requirement already satisfied: jupyterlab-widgets~=3.0.12 in c:\\users\\hozna\\documents\\web_poject\\.conda\\lib\\site-packages (from ipywidgets) (3.0.13)\n",
      "Requirement already satisfied: colorama in c:\\users\\hozna\\appdata\\roaming\\python\\python311\\site-packages (from ipython>=6.1.0->ipywidgets) (0.4.6)\n",
      "Requirement already satisfied: decorator in c:\\users\\hozna\\appdata\\roaming\\python\\python311\\site-packages (from ipython>=6.1.0->ipywidgets) (5.1.1)\n",
      "Requirement already satisfied: jedi>=0.16 in c:\\users\\hozna\\appdata\\roaming\\python\\python311\\site-packages (from ipython>=6.1.0->ipywidgets) (0.19.2)\n",
      "Requirement already satisfied: matplotlib-inline in c:\\users\\hozna\\appdata\\roaming\\python\\python311\\site-packages (from ipython>=6.1.0->ipywidgets) (0.1.7)\n",
      "Requirement already satisfied: prompt_toolkit<3.1.0,>=3.0.41 in c:\\users\\hozna\\appdata\\roaming\\python\\python311\\site-packages (from ipython>=6.1.0->ipywidgets) (3.0.48)\n",
      "Requirement already satisfied: pygments>=2.4.0 in c:\\users\\hozna\\appdata\\roaming\\python\\python311\\site-packages (from ipython>=6.1.0->ipywidgets) (2.18.0)\n",
      "Requirement already satisfied: stack_data in c:\\users\\hozna\\appdata\\roaming\\python\\python311\\site-packages (from ipython>=6.1.0->ipywidgets) (0.6.3)\n",
      "Requirement already satisfied: typing_extensions>=4.6 in c:\\users\\hozna\\appdata\\roaming\\python\\python311\\site-packages (from ipython>=6.1.0->ipywidgets) (4.12.2)\n",
      "Requirement already satisfied: parso<0.9.0,>=0.8.4 in c:\\users\\hozna\\appdata\\roaming\\python\\python311\\site-packages (from jedi>=0.16->ipython>=6.1.0->ipywidgets) (0.8.4)\n",
      "Requirement already satisfied: wcwidth in c:\\users\\hozna\\appdata\\roaming\\python\\python311\\site-packages (from prompt_toolkit<3.1.0,>=3.0.41->ipython>=6.1.0->ipywidgets) (0.2.13)\n",
      "Requirement already satisfied: executing>=1.2.0 in c:\\users\\hozna\\appdata\\roaming\\python\\python311\\site-packages (from stack_data->ipython>=6.1.0->ipywidgets) (2.1.0)\n",
      "Requirement already satisfied: asttokens>=2.1.0 in c:\\users\\hozna\\appdata\\roaming\\python\\python311\\site-packages (from stack_data->ipython>=6.1.0->ipywidgets) (3.0.0)\n",
      "Requirement already satisfied: pure-eval in c:\\users\\hozna\\appdata\\roaming\\python\\python311\\site-packages (from stack_data->ipython>=6.1.0->ipywidgets) (0.2.3)\n"
     ]
    }
   ],
   "source": [
    "! pip install --upgrade ipywidgets"
   ]
  },
  {
   "cell_type": "code",
   "execution_count": 2,
   "metadata": {},
   "outputs": [
    {
     "name": "stdout",
     "output_type": "stream",
     "text": [
      "Loaded layout model s3://layout/2025_02_18 on device cpu with dtype torch.float32\n",
      "Loaded texify model s3://texify/2025_02_18 on device cpu with dtype torch.float32\n",
      "Loaded recognition model s3://text_recognition/2025_02_18 on device cpu with dtype torch.float32\n",
      "Loaded table recognition model s3://table_recognition/2025_02_18 on device cpu with dtype torch.float32\n",
      "Loaded detection model s3://text_detection/2025_02_28 on device cpu with dtype torch.float32\n",
      "Loaded detection model s3://inline_math_detection/2025_02_24 on device cpu with dtype torch.float32\n"
     ]
    },
    {
     "name": "stderr",
     "output_type": "stream",
     "text": [
      "Recognizing layout: 100%|██████████| 1/1 [00:19<00:00, 19.70s/it]\n",
      "Running OCR Error Detection: 100%|██████████| 1/1 [00:01<00:00,  1.45s/it]\n",
      "Detecting bboxes: 0it [00:00, ?it/s]\n",
      "Texify inference: 100%|██████████| 1/1 [00:10<00:00, 10.83s/it]\n",
      "Detecting bboxes: 0it [00:00, ?it/s]\n",
      "Recognizing tables: 100%|██████████| 2/2 [01:05<00:00, 32.52s/it]\n"
     ]
    }
   ],
   "source": [
    "from marker.converters.pdf import PdfConverter\n",
    "from marker.models import create_model_dict\n",
    "from marker.output import text_from_rendered\n",
    "\n",
    "converter = PdfConverter(\n",
    "    artifact_dict=create_model_dict(),\n",
    ")\n",
    "rendered = converter(\"test.pdf\")\n",
    "text, _, images = text_from_rendered(rendered)"
   ]
  },
  {
   "cell_type": "code",
   "execution_count": 3,
   "metadata": {},
   "outputs": [],
   "source": [
    "# importing required modules\n",
    "from pypdf import PdfReader\n",
    "\n",
    "# creating a pdf reader object\n",
    "reader = PdfReader('test.pdf')\n",
    "\n"
   ]
  },
  {
   "cell_type": "code",
   "execution_count": null,
   "metadata": {},
   "outputs": [],
   "source": [
    "reader."
   ]
  }
 ],
 "metadata": {
  "kernelspec": {
   "display_name": "Python 3",
   "language": "python",
   "name": "python3"
  },
  "language_info": {
   "codemirror_mode": {
    "name": "ipython",
    "version": 3
   },
   "file_extension": ".py",
   "mimetype": "text/x-python",
   "name": "python",
   "nbconvert_exporter": "python",
   "pygments_lexer": "ipython3",
   "version": "3.11.11"
  }
 },
 "nbformat": 4,
 "nbformat_minor": 2
}
