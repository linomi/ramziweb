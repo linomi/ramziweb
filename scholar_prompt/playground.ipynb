{
 "cells": [
  {
   "cell_type": "code",
   "execution_count": 5,
   "metadata": {},
   "outputs": [],
   "source": [
    "from scholarly import scholarly"
   ]
  },
  {
   "cell_type": "code",
   "execution_count": 54,
   "metadata": {},
   "outputs": [],
   "source": [
    "gen = scholarly.search_author('menhaj')"
   ]
  },
  {
   "cell_type": "code",
   "execution_count": 55,
   "metadata": {},
   "outputs": [],
   "source": [
    "author = next(gen)"
   ]
  },
  {
   "cell_type": "code",
   "execution_count": 62,
   "metadata": {},
   "outputs": [],
   "source": [
    "from scholar import Gscholar"
   ]
  },
  {
   "cell_type": "code",
   "execution_count": 63,
   "metadata": {},
   "outputs": [],
   "source": [
    "S = Gscholar('menhaj')"
   ]
  },
  {
   "cell_type": "code",
   "execution_count": 64,
   "metadata": {},
   "outputs": [],
   "source": [
    "authors = next(S)"
   ]
  },
  {
   "cell_type": "code",
   "execution_count": 66,
   "metadata": {},
   "outputs": [
    {
     "data": {
      "text/plain": [
       "[{'container_type': 'Author',\n",
       "  'filled': [],\n",
       "  'source': <AuthorSource.SEARCH_AUTHOR_SNIPPETS: 'SEARCH_AUTHOR_SNIPPETS'>,\n",
       "  'scholar_id': '0EN-JbQAAAAJ',\n",
       "  'url_picture': 'https://scholar.google.com/citations?view_op=medium_photo&user=0EN-JbQAAAAJ',\n",
       "  'name': 'Mohammad Bagher Menhaj',\n",
       "  'affiliation': 'Professor of Electrical Engineering, Amirkabir University of Technology, Tehran, Iran',\n",
       "  'email_domain': '@aut.ac.ir',\n",
       "  'interests': ['Adaptive Control',\n",
       "   'Computational Intelligence',\n",
       "   'Multi-Agent Systems',\n",
       "   'Robotics',\n",
       "   'Cognitive Science'],\n",
       "  'citedby': 18305},\n",
       " {'container_type': 'Author',\n",
       "  'filled': [],\n",
       "  'source': <AuthorSource.SEARCH_AUTHOR_SNIPPETS: 'SEARCH_AUTHOR_SNIPPETS'>,\n",
       "  'scholar_id': 'iLk-RhgAAAAJ',\n",
       "  'url_picture': 'https://scholar.google.com/citations?view_op=medium_photo&user=iLk-RhgAAAAJ',\n",
       "  'name': 'Mohammad Hossien Menhaj',\n",
       "  'affiliation': 'Associate Professor, University of Guilan',\n",
       "  'email_domain': '@guilan.ac.ir',\n",
       "  'interests': ['Agricultural Economics'],\n",
       "  'citedby': 41}]"
      ]
     },
     "execution_count": 66,
     "metadata": {},
     "output_type": "execute_result"
    }
   ],
   "source": [
    "authors"
   ]
  }
 ],
 "metadata": {
  "kernelspec": {
   "display_name": "Python 3",
   "language": "python",
   "name": "python3"
  },
  "language_info": {
   "codemirror_mode": {
    "name": "ipython",
    "version": 3
   },
   "file_extension": ".py",
   "mimetype": "text/x-python",
   "name": "python",
   "nbconvert_exporter": "python",
   "pygments_lexer": "ipython3",
   "version": "3.11.11"
  }
 },
 "nbformat": 4,
 "nbformat_minor": 2
}
